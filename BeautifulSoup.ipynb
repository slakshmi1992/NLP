{
 "cells": [
  {
   "cell_type": "code",
   "execution_count": 1,
   "id": "bb96ffae",
   "metadata": {},
   "outputs": [],
   "source": [
    "from bs4 import BeautifulSoup\n",
    "from urllib.request import urlopen"
   ]
  },
  {
   "cell_type": "code",
   "execution_count": 6,
   "id": "5c16a94f",
   "metadata": {},
   "outputs": [
    {
     "data": {
      "text/plain": [
       "'https://stackoverflow.com/questions/415511/how-to-get-the-current-time-in-python'"
      ]
     },
     "execution_count": 6,
     "metadata": {},
     "output_type": "execute_result"
    }
   ],
   "source": [
    "myurl= \"https://stackoverflow.com/questions/415511/how-to-get-the-current-time-in-python \"\n",
    "myurl=myurl.strip()\n",
    "#myurl = myurl.replace(\" \",\"\")\n",
    "myurl"
   ]
  },
  {
   "cell_type": "code",
   "execution_count": 9,
   "id": "d2c726c4",
   "metadata": {},
   "outputs": [
    {
     "name": "stdout",
     "output_type": "stream",
     "text": [
      "Questions:\n",
      "What is the module/method used to get the current time?\n"
     ]
    }
   ],
   "source": [
    "html = urlopen(myurl)\n",
    "soupified = BeautifulSoup(html,'html.parser')\n",
    "questions_section = soupified.find('div',{\"class\":\"question\"})\n",
    "question = questions_section.find('div',{\"class\":\"s-prose js-post-body\"})\n",
    "print(\"Questions:\\n\"+question.get_text().strip())"
   ]
  },
  {
   "cell_type": "code",
   "execution_count": 11,
   "id": "b479a5ad",
   "metadata": {},
   "outputs": [
    {
     "name": "stdout",
     "output_type": "stream",
     "text": [
      "Questions:\n",
      "Use:\n",
      ">>> import datetime\n",
      ">>> datetime.datetime.now()\n",
      "datetime.datetime(2009, 1, 6, 15, 8, 24, 78915)\n",
      "\n",
      ">>> print(datetime.datetime.now())\n",
      "2009-01-06 15:08:24.789150\n",
      "\n",
      "And just the time:\n",
      ">>> datetime.datetime.now().time()\n",
      "datetime.time(15, 8, 24, 78915)\n",
      "\n",
      ">>> print(datetime.datetime.now().time())\n",
      "15:08:24.789150\n",
      "\n",
      "See the documentation for more information.\n",
      "To save typing, you can import the datetime object from the datetime module:\n",
      ">>> from datetime import datetime\n",
      "\n",
      "Then remove the leading datetime. from all of the above.\n"
     ]
    }
   ],
   "source": [
    "answer_section = soupified.find('div',{\"class\":\"answer\"})\n",
    "answer = answer_section.find('div',{\"class\":\"s-prose js-post-body\"})\n",
    "print(\"Questions:\\n\"+answer.get_text().strip())"
   ]
  },
  {
   "cell_type": "code",
   "execution_count": 13,
   "id": "9118759d",
   "metadata": {},
   "outputs": [
    {
     "name": "stdout",
     "output_type": "stream",
     "text": [
      "Reinitialized existing Git repository in C:/Users/Sreelaksmi/.git/\n"
     ]
    }
   ],
   "source": [
    "!git init"
   ]
  },
  {
   "cell_type": "code",
   "execution_count": null,
   "id": "87a49630",
   "metadata": {},
   "outputs": [],
   "source": [
    "!git BeautifulSoup"
   ]
  }
 ],
 "metadata": {
  "kernelspec": {
   "display_name": "Python 3 (ipykernel)",
   "language": "python",
   "name": "python3"
  },
  "language_info": {
   "codemirror_mode": {
    "name": "ipython",
    "version": 3
   },
   "file_extension": ".py",
   "mimetype": "text/x-python",
   "name": "python",
   "nbconvert_exporter": "python",
   "pygments_lexer": "ipython3",
   "version": "3.9.7"
  }
 },
 "nbformat": 4,
 "nbformat_minor": 5
}
