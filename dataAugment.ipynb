{
 "cells": [
  {
   "cell_type": "code",
   "execution_count": 4,
   "id": "e6a879b8",
   "metadata": {},
   "outputs": [
    {
     "name": "stdout",
     "output_type": "stream",
     "text": [
      "Collecting nlpaug==0.0.14\n",
      "  Downloading nlpaug-0.0.14-py3-none-any.whl (101 kB)\n",
      "Installing collected packages: nlpaug\n",
      "Successfully installed nlpaug-0.0.14\n"
     ]
    }
   ],
   "source": [
    "#installing the nlpaug package\n",
    "!pip install nlpaug==0.0.14"
   ]
  },
  {
   "cell_type": "code",
   "execution_count": 5,
   "id": "276192b4",
   "metadata": {},
   "outputs": [
    {
     "name": "stdout",
     "output_type": "stream",
     "text": [
      "The quick brown fox jumps over the lazy dog .\n"
     ]
    }
   ],
   "source": [
    "#Base text\n",
    "text=\"The quick brown fox jumps over the lazy dog .\"\n",
    "print(text)"
   ]
  },
  {
   "cell_type": "code",
   "execution_count": 12,
   "id": "fcf006d9",
   "metadata": {},
   "outputs": [],
   "source": [
    "import nlpaug.augmenter.char as nac\n",
    "import nlpaug.augmenter.word as naw\n",
    "import urllib.request as urlReq\n",
    "import os"
   ]
  },
  {
   "cell_type": "markdown",
   "id": "eddfc2a3",
   "metadata": {},
   "source": [
    "# Augmentation at the character level"
   ]
  },
  {
   "cell_type": "code",
   "execution_count": 8,
   "id": "d6039ab4",
   "metadata": {},
   "outputs": [
    {
     "name": "stdout",
     "output_type": "stream",
     "text": [
      "Original Text:\n",
      "The quick brown fox jumps over the lazy dog .\n",
      "Augmented Text:\n",
      "['The quick bkown fox jumps over the lazy dug .', 'The qoick brown fox jumps over the la2y dog .', 'The quick brown fox jumps uver the lazy dog .']\n"
     ]
    }
   ],
   "source": [
    "aug= nac.OcrAug()\n",
    "charatcer_aug_text = aug.augment(text,n=3)\n",
    "print(\"Original Text:\\n\"+text)\n",
    "print(\"Augmented Text:\\n\"+str(charatcer_aug_text))"
   ]
  },
  {
   "cell_type": "code",
   "execution_count": 9,
   "id": "4216a51f",
   "metadata": {},
   "outputs": [
    {
     "name": "stdout",
     "output_type": "stream",
     "text": [
      "Original Text:\n",
      "The quick brown fox jumps over the lazy dog .\n",
      "Augmented Text:\n",
      "['The quicU brown fox jumps over the lazy dog .', 'The qKick brown fox jumpQ over the laxy dog .', 'The quick brown fox jumps oder the lazy dog .']\n"
     ]
    }
   ],
   "source": [
    "aug= nac.KeyboardAug()\n",
    "charatcer_aug_text = aug.augment(text,n=3)\n",
    "print(\"Original Text:\\n\"+text)\n",
    "print(\"Augmented Text:\\n\"+str(charatcer_aug_text))"
   ]
  },
  {
   "cell_type": "code",
   "execution_count": 10,
   "id": "74b76128",
   "metadata": {},
   "outputs": [
    {
     "name": "stdout",
     "output_type": "stream",
     "text": [
      "Original Text:\n",
      "The quick brown fox jumps over the lazy dog .\n",
      "Augmented Text:\n",
      "['The quicD bruwn fox jumps oner the lazy dog .', 'The quick brown fox jum@s over the lazy dog .', 'The quick brown fox jumps oQer the lazy dog .']\n"
     ]
    }
   ],
   "source": [
    "aug= nac.RandomCharAug()\n",
    "charatcer_aug_text = aug.augment(text,n=3)\n",
    "print(\"Original Text:\\n\"+text)\n",
    "print(\"Augmented Text:\\n\"+str(charatcer_aug_text))"
   ]
  },
  {
   "cell_type": "markdown",
   "id": "3c4d387f",
   "metadata": {},
   "source": [
    "# Augmentation at the word level"
   ]
  },
  {
   "cell_type": "code",
   "execution_count": 13,
   "id": "8a462036",
   "metadata": {},
   "outputs": [
    {
     "data": {
      "text/plain": [
       "('spelling_en.txt', <http.client.HTTPMessage at 0x20e3e2ce3a0>)"
      ]
     },
     "execution_count": 13,
     "metadata": {},
     "output_type": "execute_result"
    }
   ],
   "source": [
    "#To get the spelling_en.txt online\n",
    "url = 'https://raw.githubusercontent.com/makcedward/nlpaug/5238e0be734841b69651d2043df535d78a8cc594/nlpaug/res/word/spelling/spelling_en.txt'\n",
    "filename = 'spelling_en.txt'\n",
    "urlReq.urlretrieve(url,filename)"
   ]
  },
  {
   "cell_type": "code",
   "execution_count": 15,
   "id": "98245782",
   "metadata": {},
   "outputs": [
    {
     "name": "stdout",
     "output_type": "stream",
     "text": [
      "Original Text:\n",
      "The quick brown fox jumps over the lazy dog .\n",
      "Augmented Text:\n",
      "They quick blown fox jumps over the lazy doga .\n"
     ]
    }
   ],
   "source": [
    "#Substitute words by spelling mistake words dictionary\n",
    "aug= naw.SpellingAug(filename)\n",
    "augmented_text=aug.augment(text)\n",
    "print(\"Original Text:\\n\"+text)\n",
    "print(\"Augmented Text:\\n\"+str(augmented_text))"
   ]
  },
  {
   "cell_type": "code",
   "execution_count": 18,
   "id": "148f493f",
   "metadata": {},
   "outputs": [
    {
     "data": {
      "text/plain": [
       "('GoogleNews-vectors-negative300.bin.gz',\n",
       " <http.client.HTTPMessage at 0x20e3ea102b0>)"
      ]
     },
     "execution_count": 18,
     "metadata": {},
     "output_type": "execute_result"
    }
   ],
   "source": [
    "url = 'https://s3.amazonaws.com/dl4j-distribution/GoogleNews-vectors-negative300.bin.gz'\n",
    "filename = 'GoogleNews-vectors-negative300.bin.gz'\n",
    "urllib.request.urlretrieve(url, filename)"
   ]
  },
  {
   "cell_type": "code",
   "execution_count": 21,
   "id": "ba20dce5",
   "metadata": {},
   "outputs": [
    {
     "name": "stdout",
     "output_type": "stream",
     "text": [
      "Original Text:\n",
      "The quick brown fox jumps over the lazy dog .\n",
      "Augmented Text:\n",
      "Oddly_enough quick brown snake jumps over fromthe lazy dog .\n"
     ]
    }
   ],
   "source": [
    "aug= naw.WordEmbsAug(model_type='word2vec',model_path='C:/Users/Sreelaksmi/GoogleNews-vectors-negative300.bin/GoogleNews-vectors-negative300.bin')\n",
    "augmented_text=aug.augment(text)\n",
    "print(\"Original Text:\\n\"+text)\n",
    "print(\"Augmented Text:\\n\"+str(augmented_text))"
   ]
  },
  {
   "cell_type": "code",
   "execution_count": 22,
   "id": "680a497e",
   "metadata": {},
   "outputs": [
    {
     "name": "stdout",
     "output_type": "stream",
     "text": [
      "Reinitialized existing Git repository in C:/Users/Sreelaksmi/.git/\n"
     ]
    }
   ],
   "source": [
    "!git init"
   ]
  },
  {
   "cell_type": "code",
   "execution_count": null,
   "id": "b903825e",
   "metadata": {},
   "outputs": [],
   "source": []
  }
 ],
 "metadata": {
  "kernelspec": {
   "display_name": "Python 3 (ipykernel)",
   "language": "python",
   "name": "python3"
  },
  "language_info": {
   "codemirror_mode": {
    "name": "ipython",
    "version": 3
   },
   "file_extension": ".py",
   "mimetype": "text/x-python",
   "name": "python",
   "nbconvert_exporter": "python",
   "pygments_lexer": "ipython3",
   "version": "3.9.7"
  }
 },
 "nbformat": 4,
 "nbformat_minor": 5
}
