{
 "cells": [
  {
   "cell_type": "code",
   "execution_count": 1,
   "id": "906d7253",
   "metadata": {},
   "outputs": [],
   "source": [
    "import requests\n",
    "page = requests.get(\"https://dataquestio.github.io/web-scraping-pages/simple.html\")"
   ]
  },
  {
   "cell_type": "code",
   "execution_count": 2,
   "id": "502ca8bc",
   "metadata": {},
   "outputs": [
    {
     "data": {
      "text/plain": [
       "<Response [200]>"
      ]
     },
     "execution_count": 2,
     "metadata": {},
     "output_type": "execute_result"
    }
   ],
   "source": [
    "page"
   ]
  },
  {
   "cell_type": "code",
   "execution_count": 3,
   "id": "2446af42",
   "metadata": {},
   "outputs": [
    {
     "data": {
      "text/plain": [
       "200"
      ]
     },
     "execution_count": 3,
     "metadata": {},
     "output_type": "execute_result"
    }
   ],
   "source": [
    "page.status_code"
   ]
  },
  {
   "cell_type": "code",
   "execution_count": 4,
   "id": "dc4c9440",
   "metadata": {},
   "outputs": [
    {
     "data": {
      "text/plain": [
       "b'<!DOCTYPE html>\\n<html>\\n    <head>\\n        <title>A simple example page</title>\\n    </head>\\n    <body>\\n        <p>Here is some simple content for this page.</p>\\n    </body>\\n</html>'"
      ]
     },
     "execution_count": 4,
     "metadata": {},
     "output_type": "execute_result"
    }
   ],
   "source": [
    "page.content"
   ]
  },
  {
   "cell_type": "code",
   "execution_count": 5,
   "id": "525c10cd",
   "metadata": {},
   "outputs": [],
   "source": [
    "from bs4 import BeautifulSoup\n",
    "soup = BeautifulSoup(page.content,'html.parser')"
   ]
  },
  {
   "cell_type": "code",
   "execution_count": 6,
   "id": "16881d6c",
   "metadata": {},
   "outputs": [
    {
     "name": "stdout",
     "output_type": "stream",
     "text": [
      "<!DOCTYPE html>\n",
      "<html>\n",
      " <head>\n",
      "  <title>\n",
      "   A simple example page\n",
      "  </title>\n",
      " </head>\n",
      " <body>\n",
      "  <p>\n",
      "   Here is some simple content for this page.\n",
      "  </p>\n",
      " </body>\n",
      "</html>\n"
     ]
    }
   ],
   "source": [
    "print(soup.prettify())"
   ]
  },
  {
   "cell_type": "code",
   "execution_count": 7,
   "id": "d6c695d1",
   "metadata": {},
   "outputs": [
    {
     "data": {
      "text/plain": [
       "['html',\n",
       " '\\n',\n",
       " <html>\n",
       " <head>\n",
       " <title>A simple example page</title>\n",
       " </head>\n",
       " <body>\n",
       " <p>Here is some simple content for this page.</p>\n",
       " </body>\n",
       " </html>]"
      ]
     },
     "execution_count": 7,
     "metadata": {},
     "output_type": "execute_result"
    }
   ],
   "source": [
    "list(soup.children)"
   ]
  },
  {
   "cell_type": "code",
   "execution_count": 8,
   "id": "d583e0b1",
   "metadata": {},
   "outputs": [
    {
     "data": {
      "text/plain": [
       "[bs4.element.Doctype, bs4.element.NavigableString, bs4.element.Tag]"
      ]
     },
     "execution_count": 8,
     "metadata": {},
     "output_type": "execute_result"
    }
   ],
   "source": [
    "[type(item) for item in list(soup.children)]"
   ]
  },
  {
   "cell_type": "code",
   "execution_count": 9,
   "id": "324a9757",
   "metadata": {},
   "outputs": [],
   "source": [
    "html = list(soup.children)[2]"
   ]
  },
  {
   "cell_type": "code",
   "execution_count": 10,
   "id": "ba508dc2",
   "metadata": {},
   "outputs": [
    {
     "data": {
      "text/plain": [
       "<html>\n",
       "<head>\n",
       "<title>A simple example page</title>\n",
       "</head>\n",
       "<body>\n",
       "<p>Here is some simple content for this page.</p>\n",
       "</body>\n",
       "</html>"
      ]
     },
     "execution_count": 10,
     "metadata": {},
     "output_type": "execute_result"
    }
   ],
   "source": [
    "html"
   ]
  },
  {
   "cell_type": "code",
   "execution_count": 11,
   "id": "34716292",
   "metadata": {},
   "outputs": [
    {
     "data": {
      "text/plain": [
       "['\\n',\n",
       " <head>\n",
       " <title>A simple example page</title>\n",
       " </head>,\n",
       " '\\n',\n",
       " <body>\n",
       " <p>Here is some simple content for this page.</p>\n",
       " </body>,\n",
       " '\\n']"
      ]
     },
     "execution_count": 11,
     "metadata": {},
     "output_type": "execute_result"
    }
   ],
   "source": [
    "list(html.children)"
   ]
  },
  {
   "cell_type": "code",
   "execution_count": 14,
   "id": "5e5bab25",
   "metadata": {},
   "outputs": [],
   "source": [
    "body = list(html.children)[3]"
   ]
  },
  {
   "cell_type": "code",
   "execution_count": 15,
   "id": "497497bf",
   "metadata": {},
   "outputs": [
    {
     "data": {
      "text/plain": [
       "<body>\n",
       "<p>Here is some simple content for this page.</p>\n",
       "</body>"
      ]
     },
     "execution_count": 15,
     "metadata": {},
     "output_type": "execute_result"
    }
   ],
   "source": [
    "body"
   ]
  },
  {
   "cell_type": "code",
   "execution_count": 16,
   "id": "518e3893",
   "metadata": {},
   "outputs": [
    {
     "data": {
      "text/plain": [
       "['\\n', <p>Here is some simple content for this page.</p>, '\\n']"
      ]
     },
     "execution_count": 16,
     "metadata": {},
     "output_type": "execute_result"
    }
   ],
   "source": [
    "list(body.children)"
   ]
  },
  {
   "cell_type": "code",
   "execution_count": 17,
   "id": "e598280e",
   "metadata": {},
   "outputs": [],
   "source": [
    "p=list(body.children)[1]"
   ]
  },
  {
   "cell_type": "code",
   "execution_count": 18,
   "id": "cceeabbc",
   "metadata": {},
   "outputs": [
    {
     "data": {
      "text/plain": [
       "'Here is some simple content for this page.'"
      ]
     },
     "execution_count": 18,
     "metadata": {},
     "output_type": "execute_result"
    }
   ],
   "source": [
    "p.get_text()"
   ]
  },
  {
   "cell_type": "code",
   "execution_count": 20,
   "id": "ef8ab9ad",
   "metadata": {},
   "outputs": [
    {
     "data": {
      "text/plain": [
       "'Here is some simple content for this page.'"
      ]
     },
     "execution_count": 20,
     "metadata": {},
     "output_type": "execute_result"
    }
   ],
   "source": [
    "soup.find_all('p')[0].get_text()"
   ]
  },
  {
   "cell_type": "code",
   "execution_count": 21,
   "id": "8c195fe2",
   "metadata": {},
   "outputs": [],
   "source": [
    "page = requests.get('https://dataquestio.github.io/web-scraping-pages/ids_and_classes.html')\n",
    "soup = BeautifulSoup(page.content,'html.parser')"
   ]
  },
  {
   "cell_type": "code",
   "execution_count": 22,
   "id": "a13d8ea0",
   "metadata": {},
   "outputs": [
    {
     "name": "stdout",
     "output_type": "stream",
     "text": [
      "<html>\n",
      " <head>\n",
      "  <title>\n",
      "   A simple example page\n",
      "  </title>\n",
      " </head>\n",
      " <body>\n",
      "  <div>\n",
      "   <p class=\"inner-text first-item\" id=\"first\">\n",
      "    First paragraph.\n",
      "   </p>\n",
      "   <p class=\"inner-text\">\n",
      "    Second paragraph.\n",
      "   </p>\n",
      "  </div>\n",
      "  <p class=\"outer-text first-item\" id=\"second\">\n",
      "   <b>\n",
      "    First outer paragraph.\n",
      "   </b>\n",
      "  </p>\n",
      "  <p class=\"outer-text\">\n",
      "   <b>\n",
      "    Second outer paragraph.\n",
      "   </b>\n",
      "  </p>\n",
      " </body>\n",
      "</html>\n"
     ]
    }
   ],
   "source": [
    "print(soup.prettify())"
   ]
  },
  {
   "cell_type": "code",
   "execution_count": 25,
   "id": "a17900bf",
   "metadata": {},
   "outputs": [
    {
     "ename": "AttributeError",
     "evalue": "ResultSet object has no attribute 'get_text'. You're probably treating a list of elements like a single element. Did you call find_all() when you meant to call find()?",
     "output_type": "error",
     "traceback": [
      "\u001b[1;31m---------------------------------------------------------------------------\u001b[0m",
      "\u001b[1;31mAttributeError\u001b[0m                            Traceback (most recent call last)",
      "\u001b[1;32m<ipython-input-25-be91467871dd>\u001b[0m in \u001b[0;36m<module>\u001b[1;34m\u001b[0m\n\u001b[1;32m----> 1\u001b[1;33m \u001b[0msoup\u001b[0m\u001b[1;33m.\u001b[0m\u001b[0mfind_all\u001b[0m\u001b[1;33m(\u001b[0m\u001b[1;34m'p'\u001b[0m\u001b[1;33m,\u001b[0m\u001b[0mclass_\u001b[0m\u001b[1;33m=\u001b[0m\u001b[1;34m'outer-text'\u001b[0m\u001b[1;33m)\u001b[0m\u001b[1;33m.\u001b[0m\u001b[0mget_text\u001b[0m\u001b[1;33m(\u001b[0m\u001b[1;33m)\u001b[0m\u001b[1;33m\u001b[0m\u001b[1;33m\u001b[0m\u001b[0m\n\u001b[0m",
      "\u001b[1;32m~\\anaconda3\\lib\\site-packages\\bs4\\element.py\u001b[0m in \u001b[0;36m__getattr__\u001b[1;34m(self, key)\u001b[0m\n\u001b[0;32m   2171\u001b[0m     \u001b[1;32mdef\u001b[0m \u001b[0m__getattr__\u001b[0m\u001b[1;33m(\u001b[0m\u001b[0mself\u001b[0m\u001b[1;33m,\u001b[0m \u001b[0mkey\u001b[0m\u001b[1;33m)\u001b[0m\u001b[1;33m:\u001b[0m\u001b[1;33m\u001b[0m\u001b[1;33m\u001b[0m\u001b[0m\n\u001b[0;32m   2172\u001b[0m         \u001b[1;34m\"\"\"Raise a helpful exception to explain a common code fix.\"\"\"\u001b[0m\u001b[1;33m\u001b[0m\u001b[1;33m\u001b[0m\u001b[0m\n\u001b[1;32m-> 2173\u001b[1;33m         raise AttributeError(\n\u001b[0m\u001b[0;32m   2174\u001b[0m             \u001b[1;34m\"ResultSet object has no attribute '%s'. You're probably treating a list of elements like a single element. Did you call find_all() when you meant to call find()?\"\u001b[0m \u001b[1;33m%\u001b[0m \u001b[0mkey\u001b[0m\u001b[1;33m\u001b[0m\u001b[1;33m\u001b[0m\u001b[0m\n\u001b[0;32m   2175\u001b[0m         )\n",
      "\u001b[1;31mAttributeError\u001b[0m: ResultSet object has no attribute 'get_text'. You're probably treating a list of elements like a single element. Did you call find_all() when you meant to call find()?"
     ]
    }
   ],
   "source": [
    "soup.find_all('p',class_='outer-text')"
   ]
  },
  {
   "cell_type": "markdown",
   "id": "3a55bcd7",
   "metadata": {},
   "source": [
    "# Web Scaping"
   ]
  },
  {
   "cell_type": "code",
   "execution_count": 29,
   "id": "9f702ccc",
   "metadata": {},
   "outputs": [],
   "source": [
    "page = requests.get('https://forecast.weather.gov/MapClick.php?lat=37.7772&lon=-122.4168#.Yem54OrMKUk')"
   ]
  },
  {
   "cell_type": "code",
   "execution_count": 30,
   "id": "1121dc2e",
   "metadata": {},
   "outputs": [],
   "source": [
    "soup = BeautifulSoup(page.content,'html.parser')"
   ]
  },
  {
   "cell_type": "code",
   "execution_count": 44,
   "id": "bcc2e36b",
   "metadata": {},
   "outputs": [],
   "source": [
    "data=soup.find(id='seven-day-forecast-list')"
   ]
  },
  {
   "cell_type": "code",
   "execution_count": 59,
   "id": "c2b89573",
   "metadata": {},
   "outputs": [],
   "source": [
    "tempData_today = data.find_all(class_='tombstone-container')"
   ]
  },
  {
   "cell_type": "code",
   "execution_count": 63,
   "id": "ad7af0eb",
   "metadata": {},
   "outputs": [],
   "source": [
    "today=tempData_today[0]"
   ]
  },
  {
   "cell_type": "code",
   "execution_count": 64,
   "id": "01c3ea26",
   "metadata": {},
   "outputs": [
    {
     "name": "stdout",
     "output_type": "stream",
     "text": [
      "<div class=\"tombstone-container\">\n",
      " <p class=\"period-name\">\n",
      "  Today\n",
      "  <br/>\n",
      "  <br/>\n",
      " </p>\n",
      " <p>\n",
      "  <img alt=\"Today: Sunny, with a high near 62. Northwest wind 7 to 10 mph. \" class=\"forecast-icon\" src=\"newimages/medium/few.png\" title=\"Today: Sunny, with a high near 62. Northwest wind 7 to 10 mph. \"/>\n",
      " </p>\n",
      " <p class=\"short-desc\">\n",
      "  Sunny\n",
      " </p>\n",
      " <p class=\"temp temp-high\">\n",
      "  High: 62 °F\n",
      " </p>\n",
      "</div>\n"
     ]
    }
   ],
   "source": [
    "print(today.prettify())"
   ]
  },
  {
   "cell_type": "code",
   "execution_count": 65,
   "id": "c6954ed8",
   "metadata": {},
   "outputs": [
    {
     "name": "stdout",
     "output_type": "stream",
     "text": [
      "Today\n",
      "Sunny\n",
      "High: 62 °F\n"
     ]
    }
   ],
   "source": [
    "period = today.find(class_='period-name').get_text()\n",
    "short_desc = today.find(class_='short-desc').get_text()\n",
    "temperature = today.find(class_='temp').get_text()\n",
    "\n",
    "print(f'{period}\\n{short_desc}\\n{temperature}')"
   ]
  },
  {
   "cell_type": "code",
   "execution_count": 66,
   "id": "cc7d9cc9",
   "metadata": {},
   "outputs": [],
   "source": [
    "img_data = today.find('img')"
   ]
  },
  {
   "cell_type": "code",
   "execution_count": 67,
   "id": "dc0d78f4",
   "metadata": {},
   "outputs": [],
   "source": [
    "desc = img_data['title']"
   ]
  },
  {
   "cell_type": "code",
   "execution_count": 68,
   "id": "05963559",
   "metadata": {},
   "outputs": [
    {
     "name": "stdout",
     "output_type": "stream",
     "text": [
      "Today: Sunny, with a high near 62. Northwest wind 7 to 10 mph. \n"
     ]
    }
   ],
   "source": [
    "print(desc)"
   ]
  },
  {
   "cell_type": "markdown",
   "id": "e7615b17",
   "metadata": {},
   "source": [
    "# Extracting all the information from the page"
   ]
  },
  {
   "cell_type": "code",
   "execution_count": 72,
   "id": "bf32ebfa",
   "metadata": {},
   "outputs": [],
   "source": [
    "period_tag = data.select('#seven-day-forecast-list .tombstone-container .period-name')"
   ]
  },
  {
   "cell_type": "code",
   "execution_count": 75,
   "id": "301dd100",
   "metadata": {},
   "outputs": [],
   "source": [
    "days = [day.get_text() for day in period_tag]"
   ]
  },
  {
   "cell_type": "code",
   "execution_count": 76,
   "id": "5a53f52b",
   "metadata": {},
   "outputs": [
    {
     "data": {
      "text/plain": [
       "['Today',\n",
       " 'Tonight',\n",
       " 'Friday',\n",
       " 'FridayNight',\n",
       " 'Saturday',\n",
       " 'SaturdayNight',\n",
       " 'Sunday',\n",
       " 'SundayNight',\n",
       " 'Monday']"
      ]
     },
     "execution_count": 76,
     "metadata": {},
     "output_type": "execute_result"
    }
   ],
   "source": [
    "days"
   ]
  },
  {
   "cell_type": "code",
   "execution_count": 77,
   "id": "42cdede4",
   "metadata": {},
   "outputs": [],
   "source": [
    "desc_data = data.select('#seven-day-forecast-list .tombstone-container img') "
   ]
  },
  {
   "cell_type": "code",
   "execution_count": 78,
   "id": "cd2bd9b6",
   "metadata": {},
   "outputs": [],
   "source": [
    "desc = [i['title'] for i in desc_data]"
   ]
  },
  {
   "cell_type": "code",
   "execution_count": 79,
   "id": "e4b1e24b",
   "metadata": {},
   "outputs": [
    {
     "data": {
      "text/plain": [
       "['Today: Sunny, with a high near 62. Northwest wind 7 to 10 mph. ',\n",
       " 'Tonight: Mostly clear, with a low around 47. West wind 5 to 8 mph becoming calm  after midnight. ',\n",
       " 'Friday: Sunny, with a high near 65. North northwest wind 9 to 15 mph, with gusts as high as 20 mph. ',\n",
       " 'Friday Night: Mostly clear, with a low around 48. Breezy, with a north northeast wind 21 to 26 mph decreasing to 14 to 19 mph after midnight. Winds could gust as high as 33 mph. ',\n",
       " 'Saturday: Sunny, with a high near 63. Northeast wind 10 to 17 mph, with gusts as high as 22 mph. ',\n",
       " 'Saturday Night: Mostly clear, with a low around 45.',\n",
       " 'Sunday: Sunny, with a high near 61.',\n",
       " 'Sunday Night: Mostly clear, with a low around 46.',\n",
       " 'Monday: Sunny, with a high near 60.']"
      ]
     },
     "execution_count": 79,
     "metadata": {},
     "output_type": "execute_result"
    }
   ],
   "source": [
    "desc"
   ]
  },
  {
   "cell_type": "code",
   "execution_count": 82,
   "id": "4a464904",
   "metadata": {},
   "outputs": [],
   "source": [
    "weather_data = data.select('#seven-day-forecast-list .tombstone-container .short-desc') "
   ]
  },
  {
   "cell_type": "code",
   "execution_count": 83,
   "id": "05854012",
   "metadata": {},
   "outputs": [],
   "source": [
    "weather = [waet.get_text() for waet in weather_data]"
   ]
  },
  {
   "cell_type": "code",
   "execution_count": 84,
   "id": "50a51992",
   "metadata": {},
   "outputs": [
    {
     "data": {
      "text/plain": [
       "['Sunny',\n",
       " 'Mostly Clear',\n",
       " 'Sunny',\n",
       " 'Mostly Clearand Breezythen MostlyClear',\n",
       " 'Sunny',\n",
       " 'Mostly Clear',\n",
       " 'Sunny',\n",
       " 'Mostly Clear',\n",
       " 'Sunny']"
      ]
     },
     "execution_count": 84,
     "metadata": {},
     "output_type": "execute_result"
    }
   ],
   "source": [
    "weather"
   ]
  },
  {
   "cell_type": "code",
   "execution_count": 85,
   "id": "1d8eecc3",
   "metadata": {},
   "outputs": [],
   "source": [
    "temp_reading = data.select('#seven-day-forecast-list .tombstone-container .temp') \n",
    "\n",
    "temp = [t.get_text() for t in temp_reading]"
   ]
  },
  {
   "cell_type": "code",
   "execution_count": 86,
   "id": "29f58f43",
   "metadata": {},
   "outputs": [
    {
     "data": {
      "text/plain": [
       "['High: 62 °F',\n",
       " 'Low: 47 °F',\n",
       " 'High: 65 °F',\n",
       " 'Low: 48 °F',\n",
       " 'High: 63 °F',\n",
       " 'Low: 45 °F',\n",
       " 'High: 61 °F',\n",
       " 'Low: 46 °F',\n",
       " 'High: 60 °F']"
      ]
     },
     "execution_count": 86,
     "metadata": {},
     "output_type": "execute_result"
    }
   ],
   "source": [
    "temp"
   ]
  },
  {
   "cell_type": "markdown",
   "id": "12e3f95f",
   "metadata": {},
   "source": [
    "# Combining the data into the Dataframe"
   ]
  },
  {
   "cell_type": "code",
   "execution_count": 87,
   "id": "12ade0f1",
   "metadata": {},
   "outputs": [],
   "source": [
    "import pandas as pd\n",
    "df_weather = pd.DataFrame({\n",
    "    \"Period\":days,\n",
    "    \"description\":desc,\n",
    "    \"short_desc\":weather,\n",
    "    \"temperature\":temp\n",
    "})"
   ]
  },
  {
   "cell_type": "code",
   "execution_count": 88,
   "id": "0137fcb8",
   "metadata": {},
   "outputs": [
    {
     "data": {
      "text/html": [
       "<div>\n",
       "<style scoped>\n",
       "    .dataframe tbody tr th:only-of-type {\n",
       "        vertical-align: middle;\n",
       "    }\n",
       "\n",
       "    .dataframe tbody tr th {\n",
       "        vertical-align: top;\n",
       "    }\n",
       "\n",
       "    .dataframe thead th {\n",
       "        text-align: right;\n",
       "    }\n",
       "</style>\n",
       "<table border=\"1\" class=\"dataframe\">\n",
       "  <thead>\n",
       "    <tr style=\"text-align: right;\">\n",
       "      <th></th>\n",
       "      <th>Period</th>\n",
       "      <th>description</th>\n",
       "      <th>short_desc</th>\n",
       "      <th>temperature</th>\n",
       "    </tr>\n",
       "  </thead>\n",
       "  <tbody>\n",
       "    <tr>\n",
       "      <th>0</th>\n",
       "      <td>Today</td>\n",
       "      <td>Today: Sunny, with a high near 62. Northwest w...</td>\n",
       "      <td>Sunny</td>\n",
       "      <td>High: 62 °F</td>\n",
       "    </tr>\n",
       "    <tr>\n",
       "      <th>1</th>\n",
       "      <td>Tonight</td>\n",
       "      <td>Tonight: Mostly clear, with a low around 47. W...</td>\n",
       "      <td>Mostly Clear</td>\n",
       "      <td>Low: 47 °F</td>\n",
       "    </tr>\n",
       "    <tr>\n",
       "      <th>2</th>\n",
       "      <td>Friday</td>\n",
       "      <td>Friday: Sunny, with a high near 65. North nort...</td>\n",
       "      <td>Sunny</td>\n",
       "      <td>High: 65 °F</td>\n",
       "    </tr>\n",
       "    <tr>\n",
       "      <th>3</th>\n",
       "      <td>FridayNight</td>\n",
       "      <td>Friday Night: Mostly clear, with a low around ...</td>\n",
       "      <td>Mostly Clearand Breezythen MostlyClear</td>\n",
       "      <td>Low: 48 °F</td>\n",
       "    </tr>\n",
       "    <tr>\n",
       "      <th>4</th>\n",
       "      <td>Saturday</td>\n",
       "      <td>Saturday: Sunny, with a high near 63. Northeas...</td>\n",
       "      <td>Sunny</td>\n",
       "      <td>High: 63 °F</td>\n",
       "    </tr>\n",
       "    <tr>\n",
       "      <th>5</th>\n",
       "      <td>SaturdayNight</td>\n",
       "      <td>Saturday Night: Mostly clear, with a low aroun...</td>\n",
       "      <td>Mostly Clear</td>\n",
       "      <td>Low: 45 °F</td>\n",
       "    </tr>\n",
       "    <tr>\n",
       "      <th>6</th>\n",
       "      <td>Sunday</td>\n",
       "      <td>Sunday: Sunny, with a high near 61.</td>\n",
       "      <td>Sunny</td>\n",
       "      <td>High: 61 °F</td>\n",
       "    </tr>\n",
       "    <tr>\n",
       "      <th>7</th>\n",
       "      <td>SundayNight</td>\n",
       "      <td>Sunday Night: Mostly clear, with a low around 46.</td>\n",
       "      <td>Mostly Clear</td>\n",
       "      <td>Low: 46 °F</td>\n",
       "    </tr>\n",
       "    <tr>\n",
       "      <th>8</th>\n",
       "      <td>Monday</td>\n",
       "      <td>Monday: Sunny, with a high near 60.</td>\n",
       "      <td>Sunny</td>\n",
       "      <td>High: 60 °F</td>\n",
       "    </tr>\n",
       "  </tbody>\n",
       "</table>\n",
       "</div>"
      ],
      "text/plain": [
       "          Period                                        description  \\\n",
       "0          Today  Today: Sunny, with a high near 62. Northwest w...   \n",
       "1        Tonight  Tonight: Mostly clear, with a low around 47. W...   \n",
       "2         Friday  Friday: Sunny, with a high near 65. North nort...   \n",
       "3    FridayNight  Friday Night: Mostly clear, with a low around ...   \n",
       "4       Saturday  Saturday: Sunny, with a high near 63. Northeas...   \n",
       "5  SaturdayNight  Saturday Night: Mostly clear, with a low aroun...   \n",
       "6         Sunday                Sunday: Sunny, with a high near 61.   \n",
       "7    SundayNight  Sunday Night: Mostly clear, with a low around 46.   \n",
       "8         Monday                Monday: Sunny, with a high near 60.   \n",
       "\n",
       "                               short_desc  temperature  \n",
       "0                                   Sunny  High: 62 °F  \n",
       "1                            Mostly Clear   Low: 47 °F  \n",
       "2                                   Sunny  High: 65 °F  \n",
       "3  Mostly Clearand Breezythen MostlyClear   Low: 48 °F  \n",
       "4                                   Sunny  High: 63 °F  \n",
       "5                            Mostly Clear   Low: 45 °F  \n",
       "6                                   Sunny  High: 61 °F  \n",
       "7                            Mostly Clear   Low: 46 °F  \n",
       "8                                   Sunny  High: 60 °F  "
      ]
     },
     "execution_count": 88,
     "metadata": {},
     "output_type": "execute_result"
    }
   ],
   "source": [
    "df_weather"
   ]
  },
  {
   "cell_type": "code",
   "execution_count": 89,
   "id": "2a57de95",
   "metadata": {},
   "outputs": [
    {
     "data": {
      "text/plain": [
       "Period         object\n",
       "description    object\n",
       "short_desc     object\n",
       "temperature    object\n",
       "dtype: object"
      ]
     },
     "execution_count": 89,
     "metadata": {},
     "output_type": "execute_result"
    }
   ],
   "source": [
    "df_weather.dtypes"
   ]
  },
  {
   "cell_type": "code",
   "execution_count": 91,
   "id": "5a1f0ef4",
   "metadata": {},
   "outputs": [],
   "source": [
    "temp_nums = df_weather[\"temperature\"].str.extract(\"(?P<temp_num>\\d+)\", expand=False)"
   ]
  },
  {
   "cell_type": "code",
   "execution_count": 94,
   "id": "f6c940bb",
   "metadata": {},
   "outputs": [],
   "source": [
    "df_weather['temperature_value'] = temp_nums.astype('int')"
   ]
  },
  {
   "cell_type": "code",
   "execution_count": 95,
   "id": "33a631a4",
   "metadata": {},
   "outputs": [
    {
     "data": {
      "text/html": [
       "<div>\n",
       "<style scoped>\n",
       "    .dataframe tbody tr th:only-of-type {\n",
       "        vertical-align: middle;\n",
       "    }\n",
       "\n",
       "    .dataframe tbody tr th {\n",
       "        vertical-align: top;\n",
       "    }\n",
       "\n",
       "    .dataframe thead th {\n",
       "        text-align: right;\n",
       "    }\n",
       "</style>\n",
       "<table border=\"1\" class=\"dataframe\">\n",
       "  <thead>\n",
       "    <tr style=\"text-align: right;\">\n",
       "      <th></th>\n",
       "      <th>Period</th>\n",
       "      <th>description</th>\n",
       "      <th>short_desc</th>\n",
       "      <th>temperature</th>\n",
       "      <th>temperature_value</th>\n",
       "    </tr>\n",
       "  </thead>\n",
       "  <tbody>\n",
       "    <tr>\n",
       "      <th>0</th>\n",
       "      <td>Today</td>\n",
       "      <td>Today: Sunny, with a high near 62. Northwest w...</td>\n",
       "      <td>Sunny</td>\n",
       "      <td>High: 62 °F</td>\n",
       "      <td>62</td>\n",
       "    </tr>\n",
       "    <tr>\n",
       "      <th>1</th>\n",
       "      <td>Tonight</td>\n",
       "      <td>Tonight: Mostly clear, with a low around 47. W...</td>\n",
       "      <td>Mostly Clear</td>\n",
       "      <td>Low: 47 °F</td>\n",
       "      <td>47</td>\n",
       "    </tr>\n",
       "    <tr>\n",
       "      <th>2</th>\n",
       "      <td>Friday</td>\n",
       "      <td>Friday: Sunny, with a high near 65. North nort...</td>\n",
       "      <td>Sunny</td>\n",
       "      <td>High: 65 °F</td>\n",
       "      <td>65</td>\n",
       "    </tr>\n",
       "    <tr>\n",
       "      <th>3</th>\n",
       "      <td>FridayNight</td>\n",
       "      <td>Friday Night: Mostly clear, with a low around ...</td>\n",
       "      <td>Mostly Clearand Breezythen MostlyClear</td>\n",
       "      <td>Low: 48 °F</td>\n",
       "      <td>48</td>\n",
       "    </tr>\n",
       "    <tr>\n",
       "      <th>4</th>\n",
       "      <td>Saturday</td>\n",
       "      <td>Saturday: Sunny, with a high near 63. Northeas...</td>\n",
       "      <td>Sunny</td>\n",
       "      <td>High: 63 °F</td>\n",
       "      <td>63</td>\n",
       "    </tr>\n",
       "    <tr>\n",
       "      <th>5</th>\n",
       "      <td>SaturdayNight</td>\n",
       "      <td>Saturday Night: Mostly clear, with a low aroun...</td>\n",
       "      <td>Mostly Clear</td>\n",
       "      <td>Low: 45 °F</td>\n",
       "      <td>45</td>\n",
       "    </tr>\n",
       "    <tr>\n",
       "      <th>6</th>\n",
       "      <td>Sunday</td>\n",
       "      <td>Sunday: Sunny, with a high near 61.</td>\n",
       "      <td>Sunny</td>\n",
       "      <td>High: 61 °F</td>\n",
       "      <td>61</td>\n",
       "    </tr>\n",
       "    <tr>\n",
       "      <th>7</th>\n",
       "      <td>SundayNight</td>\n",
       "      <td>Sunday Night: Mostly clear, with a low around 46.</td>\n",
       "      <td>Mostly Clear</td>\n",
       "      <td>Low: 46 °F</td>\n",
       "      <td>46</td>\n",
       "    </tr>\n",
       "    <tr>\n",
       "      <th>8</th>\n",
       "      <td>Monday</td>\n",
       "      <td>Monday: Sunny, with a high near 60.</td>\n",
       "      <td>Sunny</td>\n",
       "      <td>High: 60 °F</td>\n",
       "      <td>60</td>\n",
       "    </tr>\n",
       "  </tbody>\n",
       "</table>\n",
       "</div>"
      ],
      "text/plain": [
       "          Period                                        description  \\\n",
       "0          Today  Today: Sunny, with a high near 62. Northwest w...   \n",
       "1        Tonight  Tonight: Mostly clear, with a low around 47. W...   \n",
       "2         Friday  Friday: Sunny, with a high near 65. North nort...   \n",
       "3    FridayNight  Friday Night: Mostly clear, with a low around ...   \n",
       "4       Saturday  Saturday: Sunny, with a high near 63. Northeas...   \n",
       "5  SaturdayNight  Saturday Night: Mostly clear, with a low aroun...   \n",
       "6         Sunday                Sunday: Sunny, with a high near 61.   \n",
       "7    SundayNight  Sunday Night: Mostly clear, with a low around 46.   \n",
       "8         Monday                Monday: Sunny, with a high near 60.   \n",
       "\n",
       "                               short_desc  temperature  temperature_value  \n",
       "0                                   Sunny  High: 62 °F                 62  \n",
       "1                            Mostly Clear   Low: 47 °F                 47  \n",
       "2                                   Sunny  High: 65 °F                 65  \n",
       "3  Mostly Clearand Breezythen MostlyClear   Low: 48 °F                 48  \n",
       "4                                   Sunny  High: 63 °F                 63  \n",
       "5                            Mostly Clear   Low: 45 °F                 45  \n",
       "6                                   Sunny  High: 61 °F                 61  \n",
       "7                            Mostly Clear   Low: 46 °F                 46  \n",
       "8                                   Sunny  High: 60 °F                 60  "
      ]
     },
     "execution_count": 95,
     "metadata": {},
     "output_type": "execute_result"
    }
   ],
   "source": [
    "df_weather"
   ]
  },
  {
   "cell_type": "code",
   "execution_count": 96,
   "id": "a5d7df68",
   "metadata": {},
   "outputs": [
    {
     "name": "stderr",
     "output_type": "stream",
     "text": [
      "'git.init' is not recognized as an internal or external command,\n",
      "operable program or batch file.\n"
     ]
    }
   ],
   "source": [
    "!git.init()"
   ]
  },
  {
   "cell_type": "code",
   "execution_count": null,
   "id": "8e6f92bb",
   "metadata": {},
   "outputs": [],
   "source": []
  }
 ],
 "metadata": {
  "kernelspec": {
   "display_name": "Python 3",
   "language": "python",
   "name": "python3"
  },
  "language_info": {
   "codemirror_mode": {
    "name": "ipython",
    "version": 3
   },
   "file_extension": ".py",
   "mimetype": "text/x-python",
   "name": "python",
   "nbconvert_exporter": "python",
   "pygments_lexer": "ipython3",
   "version": "3.8.8"
  }
 },
 "nbformat": 4,
 "nbformat_minor": 5
}
